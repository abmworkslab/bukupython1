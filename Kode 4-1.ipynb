{
  "nbformat": 4,
  "nbformat_minor": 0,
  "metadata": {
    "colab": {
      "name": "Kode 4-1.ipynb",
      "provenance": [],
      "authorship_tag": "ABX9TyPOrBjgA18MP2lyRHdA18MT"
    },
    "kernelspec": {
      "name": "python3",
      "display_name": "Python 3"
    },
    "language_info": {
      "name": "python"
    }
  },
  "cells": [
    {
      "cell_type": "code",
      "execution_count": 12,
      "metadata": {
        "colab": {
          "base_uri": "https://localhost:8080/"
        },
        "id": "rRyTcEGnolES",
        "outputId": "420f5fd8-d028-4876-a1c9-768f9efff7dc"
      },
      "outputs": [
        {
          "output_type": "stream",
          "name": "stdout",
          "text": [
            "Lebih dari 190\n"
          ]
        }
      ],
      "source": [
        "def nilai () :\n",
        "    nilai = 100\n",
        "    if nilai > 190 :\n",
        "        return \"Lebih dari 190\"\n",
        "    else:\n",
        "        return \"Kurang dari 190\"\n",
        "print(nilai())"
      ]
    },
    {
      "cell_type": "code",
      "source": [
        "def nilai () :\n",
        "nilai = 100\n",
        "if nilai > 190 :\n",
        "return ''Lebih dari 190''\n",
        "else :\n",
        "return ''Kurang dari 190''\n",
        "print(nilai())\n"
      ],
      "metadata": {
        "colab": {
          "base_uri": "https://localhost:8080/",
          "height": 130
        },
        "id": "aOwyftw0rxQp",
        "outputId": "b4bd245c-2081-4fd4-fdfd-037bd1e7c1d9"
      },
      "execution_count": 11,
      "outputs": [
        {
          "output_type": "error",
          "ename": "IndentationError",
          "evalue": "ignored",
          "traceback": [
            "\u001b[0;36m  File \u001b[0;32m\"<ipython-input-11-33d59fbfe9d9>\"\u001b[0;36m, line \u001b[0;32m2\u001b[0m\n\u001b[0;31m    nilai = 100\u001b[0m\n\u001b[0m        ^\u001b[0m\n\u001b[0;31mIndentationError\u001b[0m\u001b[0;31m:\u001b[0m expected an indented block\n"
          ]
        }
      ]
    }
  ]
}