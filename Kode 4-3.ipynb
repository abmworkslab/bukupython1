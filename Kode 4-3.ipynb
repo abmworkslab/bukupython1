{
  "nbformat": 4,
  "nbformat_minor": 0,
  "metadata": {
    "colab": {
      "name": "Untitled0.ipynb",
      "provenance": [],
      "authorship_tag": "ABX9TyOrw3cxFj567oPyDxxQTCqg"
    },
    "kernelspec": {
      "name": "python3",
      "display_name": "Python 3"
    },
    "language_info": {
      "name": "python"
    }
  },
  "cells": [
    {
      "cell_type": "code",
      "execution_count": 1,
      "metadata": {
        "colab": {
          "base_uri": "https://localhost:8080/"
        },
        "id": "omwFAj2esVmN",
        "outputId": "83de8656-3a80-4b0b-d687-1aa3c9bdee53"
      },
      "outputs": [
        {
          "output_type": "stream",
          "name": "stdout",
          "text": [
            "Hello, World!\n"
          ]
        }
      ],
      "source": [
        "# komentar \n",
        "' komentar '\n",
        "\" komentar \"\n",
        "\"\"\" komentar \"\"\"\n",
        "print('Hello, World!') #ini Hello, World!\n"
      ]
    }
  ]
}