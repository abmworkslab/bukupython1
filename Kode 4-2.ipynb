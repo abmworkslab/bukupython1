{
  "nbformat": 4,
  "nbformat_minor": 0,
  "metadata": {
    "colab": {
      "name": "Kode 4-2.ipynb",
      "provenance": [],
      "authorship_tag": "ABX9TyNequs9XRV6EfgAEtyr/0sq"
    },
    "kernelspec": {
      "name": "python3",
      "display_name": "Python 3"
    },
    "language_info": {
      "name": "python"
    }
  },
  "cells": [
    {
      "cell_type": "code",
      "execution_count": 1,
      "metadata": {
        "colab": {
          "base_uri": "https://localhost:8080/"
        },
        "id": "omwFAj2esVmN",
        "outputId": "83de8656-3a80-4b0b-d687-1aa3c9bdee53"
      },
      "outputs": [
        {
          "output_type": "stream",
          "name": "stdout",
          "text": [
            "Hello, World!\n"
          ]
        }
      ],
      "source": [
        "# komentar \n",
        "' komentar '\n",
        "\" komentar \"\n",
        "\"\"\" komentar \"\"\"\n",
        "print('Hello, World!') #ini Hello, World!\n"
      ]
    },
    {
      "cell_type": "code",
      "source": [
        "#contoh membuat variabel bertipe string\n",
        "A = ' ini string '\n",
        "B = \" ini string \"\n",
        "C = \"\"\" ini string \"\"\"\n",
        "print(A)\n",
        "print(B)\n",
        "print(C)\n"
      ],
      "metadata": {
        "colab": {
          "base_uri": "https://localhost:8080/"
        },
        "id": "D_S_Q2ACtGpJ",
        "outputId": "3fbeba0c-256f-4e76-beb9-7a8dfe9b0114"
      },
      "execution_count": 2,
      "outputs": [
        {
          "output_type": "stream",
          "name": "stdout",
          "text": [
            " ini string \n",
            " ini string \n",
            " ini string \n"
          ]
        }
      ]
    },
    {
      "cell_type": "code",
      "source": [
        "#contoh operator penugasan\n",
        "A = 3\n",
        "A += 3\n",
        "print(A)\n"
      ],
      "metadata": {
        "colab": {
          "base_uri": "https://localhost:8080/"
        },
        "id": "am_S94aNtqu0",
        "outputId": "54ae707a-5931-41fa-e605-01d4e0d21a9b"
      },
      "execution_count": 5,
      "outputs": [
        {
          "output_type": "stream",
          "name": "stdout",
          "text": [
            "6\n"
          ]
        }
      ]
    },
    {
      "cell_type": "code",
      "source": [
        "#contoh operator penugasan\n",
        "#A = 3 #sengaja dijadikan komentar agar tidak terbaca\n",
        " #boleh juga dihapus \n",
        "A += 3\n",
        "print(a)\n"
      ],
      "metadata": {
        "colab": {
          "base_uri": "https://localhost:8080/",
          "height": 217
        },
        "id": "aWpgYIPpuWIK",
        "outputId": "e306c722-5451-4924-a7b2-fb277483477b"
      },
      "execution_count": 3,
      "outputs": [
        {
          "output_type": "error",
          "ename": "TypeError",
          "evalue": "ignored",
          "traceback": [
            "\u001b[0;31m---------------------------------------------------------------------------\u001b[0m",
            "\u001b[0;31mTypeError\u001b[0m                                 Traceback (most recent call last)",
            "\u001b[0;32m<ipython-input-3-6943a781aa29>\u001b[0m in \u001b[0;36m<module>\u001b[0;34m()\u001b[0m\n\u001b[1;32m      2\u001b[0m \u001b[0;31m#A = 3 #sengaja dijadikan komentar agar tidak terbaca\u001b[0m\u001b[0;34m\u001b[0m\u001b[0;34m\u001b[0m\u001b[0;34m\u001b[0m\u001b[0m\n\u001b[1;32m      3\u001b[0m  \u001b[0;31m#boleh juga dihapus\u001b[0m\u001b[0;34m\u001b[0m\u001b[0;34m\u001b[0m\u001b[0;34m\u001b[0m\u001b[0m\n\u001b[0;32m----> 4\u001b[0;31m \u001b[0mA\u001b[0m \u001b[0;34m+=\u001b[0m \u001b[0;36m3\u001b[0m\u001b[0;34m\u001b[0m\u001b[0;34m\u001b[0m\u001b[0m\n\u001b[0m\u001b[1;32m      5\u001b[0m \u001b[0mprint\u001b[0m\u001b[0;34m(\u001b[0m\u001b[0ma\u001b[0m\u001b[0;34m)\u001b[0m\u001b[0;34m\u001b[0m\u001b[0;34m\u001b[0m\u001b[0m\n",
            "\u001b[0;31mTypeError\u001b[0m: can only concatenate str (not \"int\") to str"
          ]
        }
      ]
    },
    {
      "cell_type": "code",
      "source": [
        "#contoh operasi kondisonal\n",
        "nilai = 100\n",
        "print('Nilai baik' if nilai > 60 else 'Nilai buruk')\n"
      ],
      "metadata": {
        "colab": {
          "base_uri": "https://localhost:8080/"
        },
        "id": "LC4YSwzLvNgZ",
        "outputId": "8fab9d59-5b26-4025-9a2b-9257d98a7691"
      },
      "execution_count": 6,
      "outputs": [
        {
          "output_type": "stream",
          "name": "stdout",
          "text": [
            "Nilai baik\n"
          ]
        }
      ]
    },
    {
      "cell_type": "code",
      "source": [
        "#contoh input\n",
        "nama = input(\"Masukkan nama: \")\n",
        "print(nama)\n"
      ],
      "metadata": {
        "colab": {
          "base_uri": "https://localhost:8080/"
        },
        "id": "aU8e6JcUvTBs",
        "outputId": "f76ccc5c-26b9-4487-92b4-63ba7c95139b"
      },
      "execution_count": 8,
      "outputs": [
        {
          "output_type": "stream",
          "name": "stdout",
          "text": [
            "Masukkan nama: Fulan bin Fulan\n",
            "Fulan bin Fulan\n"
          ]
        }
      ]
    }
  ]
}